{
 "cells": [
  {
   "cell_type": "code",
   "execution_count": 1,
   "metadata": {},
   "outputs": [],
   "source": [
    "import pandas as pd\n",
    "import numpy as np\n",
    "import matplotlib.pyplot as plt\n",
    "import seaborn as sns\n",
    "import os\n",
    "import statsmodels.api as sm\n",
    "from sklearn.preprocessing import PolynomialFeatures\n",
    "from statsmodels.formula.api import ols"
   ]
  },
  {
   "cell_type": "code",
   "execution_count": 2,
   "metadata": {},
   "outputs": [
    {
     "data": {
      "text/html": [
       "<div>\n",
       "<style scoped>\n",
       "    .dataframe tbody tr th:only-of-type {\n",
       "        vertical-align: middle;\n",
       "    }\n",
       "\n",
       "    .dataframe tbody tr th {\n",
       "        vertical-align: top;\n",
       "    }\n",
       "\n",
       "    .dataframe thead th {\n",
       "        text-align: right;\n",
       "    }\n",
       "</style>\n",
       "<table border=\"1\" class=\"dataframe\">\n",
       "  <thead>\n",
       "    <tr style=\"text-align: right;\">\n",
       "      <th></th>\n",
       "      <th>Unnamed: 0</th>\n",
       "      <th>hot_spot_discover_rate</th>\n",
       "      <th>non_hot_spot_discover_rate</th>\n",
       "      <th>hot_spot_effect_size</th>\n",
       "      <th>avg_max_unfairness_rln</th>\n",
       "      <th>avg_mean_unfairness_rln</th>\n",
       "      <th>initial_unfairness_rln</th>\n",
       "      <th>avg_utility_mean_discover_rate</th>\n",
       "      <th>avg_utility_total_discover_n</th>\n",
       "      <th>avg_n_correct_hotspot</th>\n",
       "      <th>n_traces</th>\n",
       "    </tr>\n",
       "  </thead>\n",
       "  <tbody>\n",
       "    <tr>\n",
       "      <th>0</th>\n",
       "      <td>0</td>\n",
       "      <td>1.0</td>\n",
       "      <td>0.50</td>\n",
       "      <td>1</td>\n",
       "      <td>0.269339</td>\n",
       "      <td>0.162631</td>\n",
       "      <td>0.007391</td>\n",
       "      <td>0.667727</td>\n",
       "      <td>33136.500000</td>\n",
       "      <td>15.935859</td>\n",
       "      <td>32</td>\n",
       "    </tr>\n",
       "    <tr>\n",
       "      <th>1</th>\n",
       "      <td>1</td>\n",
       "      <td>1.0</td>\n",
       "      <td>0.45</td>\n",
       "      <td>1</td>\n",
       "      <td>0.273956</td>\n",
       "      <td>0.172383</td>\n",
       "      <td>0.007391</td>\n",
       "      <td>0.632467</td>\n",
       "      <td>31389.562500</td>\n",
       "      <td>15.780938</td>\n",
       "      <td>16</td>\n",
       "    </tr>\n",
       "    <tr>\n",
       "      <th>2</th>\n",
       "      <td>2</td>\n",
       "      <td>1.0</td>\n",
       "      <td>0.40</td>\n",
       "      <td>1</td>\n",
       "      <td>0.297704</td>\n",
       "      <td>0.181402</td>\n",
       "      <td>0.007391</td>\n",
       "      <td>0.598123</td>\n",
       "      <td>29683.458333</td>\n",
       "      <td>15.666667</td>\n",
       "      <td>24</td>\n",
       "    </tr>\n",
       "    <tr>\n",
       "      <th>3</th>\n",
       "      <td>3</td>\n",
       "      <td>1.0</td>\n",
       "      <td>0.35</td>\n",
       "      <td>1</td>\n",
       "      <td>0.298790</td>\n",
       "      <td>0.189401</td>\n",
       "      <td>0.007391</td>\n",
       "      <td>0.562082</td>\n",
       "      <td>27896.687500</td>\n",
       "      <td>15.464844</td>\n",
       "      <td>16</td>\n",
       "    </tr>\n",
       "    <tr>\n",
       "      <th>4</th>\n",
       "      <td>4</td>\n",
       "      <td>1.0</td>\n",
       "      <td>0.30</td>\n",
       "      <td>1</td>\n",
       "      <td>0.331910</td>\n",
       "      <td>0.206556</td>\n",
       "      <td>0.007391</td>\n",
       "      <td>0.526772</td>\n",
       "      <td>26151.208333</td>\n",
       "      <td>15.248750</td>\n",
       "      <td>24</td>\n",
       "    </tr>\n",
       "  </tbody>\n",
       "</table>\n",
       "</div>"
      ],
      "text/plain": [
       "   Unnamed: 0  hot_spot_discover_rate  non_hot_spot_discover_rate  \\\n",
       "0           0                     1.0                        0.50   \n",
       "1           1                     1.0                        0.45   \n",
       "2           2                     1.0                        0.40   \n",
       "3           3                     1.0                        0.35   \n",
       "4           4                     1.0                        0.30   \n",
       "\n",
       "   hot_spot_effect_size  avg_max_unfairness_rln  avg_mean_unfairness_rln  \\\n",
       "0                     1                0.269339                 0.162631   \n",
       "1                     1                0.273956                 0.172383   \n",
       "2                     1                0.297704                 0.181402   \n",
       "3                     1                0.298790                 0.189401   \n",
       "4                     1                0.331910                 0.206556   \n",
       "\n",
       "   initial_unfairness_rln  avg_utility_mean_discover_rate  \\\n",
       "0                0.007391                        0.667727   \n",
       "1                0.007391                        0.632467   \n",
       "2                0.007391                        0.598123   \n",
       "3                0.007391                        0.562082   \n",
       "4                0.007391                        0.526772   \n",
       "\n",
       "   avg_utility_total_discover_n  avg_n_correct_hotspot  n_traces  \n",
       "0                  33136.500000              15.935859        32  \n",
       "1                  31389.562500              15.780938        16  \n",
       "2                  29683.458333              15.666667        24  \n",
       "3                  27896.687500              15.464844        16  \n",
       "4                  26151.208333              15.248750        24  "
      ]
     },
     "execution_count": 2,
     "metadata": {},
     "output_type": "execute_result"
    }
   ],
   "source": [
    "# load data\n",
    "data = pd.read_csv('./all_params_w_utility105.csv')\n",
    "data.head()"
   ]
  },
  {
   "cell_type": "code",
   "execution_count": 3,
   "metadata": {},
   "outputs": [],
   "source": [
    "data['max_increase_unfairness_rln'] = data['avg_max_unfairness_rln'] - data['initial_unfairness_rln']\n",
    "data['avg_increase_unfairness_rln'] = data['avg_mean_unfairness_rln'] - data['initial_unfairness_rln']"
   ]
  },
  {
   "cell_type": "code",
   "execution_count": 4,
   "metadata": {},
   "outputs": [],
   "source": [
    "# fit lm model\n",
    "lm = ols('max_increase_unfairness_rln ~ (scale(hot_spot_discover_rate) + scale(non_hot_spot_discover_rate) + scale(hot_spot_effect_size))**2', data=data).fit()"
   ]
  },
  {
   "cell_type": "code",
   "execution_count": 5,
   "metadata": {},
   "outputs": [
    {
     "data": {
      "text/plain": [
       "Intercept                                                          0.306258\n",
       "scale(hot_spot_discover_rate)                                      0.008989\n",
       "scale(non_hot_spot_discover_rate)                                 -0.034629\n",
       "scale(hot_spot_effect_size)                                       -0.000718\n",
       "scale(hot_spot_discover_rate):scale(non_hot_spot_discover_rate)    0.001749\n",
       "scale(hot_spot_discover_rate):scale(hot_spot_effect_size)         -0.000536\n",
       "scale(non_hot_spot_discover_rate):scale(hot_spot_effect_size)      0.000940\n",
       "dtype: float64"
      ]
     },
     "execution_count": 5,
     "metadata": {},
     "output_type": "execute_result"
    }
   ],
   "source": [
    "lm.params"
   ]
  },
  {
   "cell_type": "code",
   "execution_count": 6,
   "metadata": {},
   "outputs": [
    {
     "name": "stdout",
     "output_type": "stream",
     "text": [
      "                                 OLS Regression Results                                \n",
      "=======================================================================================\n",
      "Dep. Variable:     max_increase_unfairness_rln   R-squared:                       0.738\n",
      "Model:                                     OLS   Adj. R-squared:                  0.722\n",
      "Method:                          Least Squares   F-statistic:                     46.09\n",
      "Date:                         Tue, 12 Nov 2024   Prob (F-statistic):           2.08e-26\n",
      "Time:                                 19:53:36   Log-Likelihood:                 254.98\n",
      "No. Observations:                          105   AIC:                            -496.0\n",
      "Df Residuals:                               98   BIC:                            -477.4\n",
      "Df Model:                                    6                                         \n",
      "Covariance Type:                     nonrobust                                         \n",
      "===================================================================================================================================\n",
      "                                                                      coef    std err          t      P>|t|      [0.025      0.975]\n",
      "-----------------------------------------------------------------------------------------------------------------------------------\n",
      "Intercept                                                           0.3063      0.002    142.086      0.000       0.302       0.311\n",
      "scale(hot_spot_discover_rate)                                       0.0090      0.002      4.170      0.000       0.005       0.013\n",
      "scale(non_hot_spot_discover_rate)                                  -0.0346      0.002    -16.066      0.000      -0.039      -0.030\n",
      "scale(hot_spot_effect_size)                                        -0.0007      0.002     -0.333      0.740      -0.005       0.004\n",
      "scale(hot_spot_discover_rate):scale(non_hot_spot_discover_rate)     0.0017      0.002      0.811      0.419      -0.003       0.006\n",
      "scale(hot_spot_discover_rate):scale(hot_spot_effect_size)          -0.0005      0.002     -0.249      0.804      -0.005       0.004\n",
      "scale(non_hot_spot_discover_rate):scale(hot_spot_effect_size)       0.0009      0.002      0.436      0.664      -0.003       0.005\n",
      "==============================================================================\n",
      "Omnibus:                        6.890   Durbin-Watson:                   0.503\n",
      "Prob(Omnibus):                  0.032   Jarque-Bera (JB):                6.312\n",
      "Skew:                           0.530   Prob(JB):                       0.0426\n",
      "Kurtosis:                       2.435   Cond. No.                         1.00\n",
      "==============================================================================\n",
      "\n",
      "Notes:\n",
      "[1] Standard Errors assume that the covariance matrix of the errors is correctly specified.\n"
     ]
    }
   ],
   "source": [
    "print(lm.summary())"
   ]
  },
  {
   "cell_type": "code",
   "execution_count": 22,
   "metadata": {},
   "outputs": [],
   "source": [
    "# get the anova table\n",
    "table = sm.stats.anova_lm(lm, typ=2)\n",
    "table['eta_sq'] = table['sum_sq'] / table['sum_sq'].sum()\n",
    "# remove residuals\n",
    "table = table.iloc[:-1]\n",
    "# get the ranking of the features based on sum of squares of anova table\n",
    "table['sum_sq_rank'] = table['sum_sq'].rank(ascending=False)\n",
    "\n",
    "# identify all variables p<=0.05\n",
    "statistically_significant_variables = table[table['PR(>F)'] <= 0.05].index"
   ]
  },
  {
   "cell_type": "code",
   "execution_count": 8,
   "metadata": {},
   "outputs": [
    {
     "data": {
      "text/html": [
       "<div>\n",
       "<style scoped>\n",
       "    .dataframe tbody tr th:only-of-type {\n",
       "        vertical-align: middle;\n",
       "    }\n",
       "\n",
       "    .dataframe tbody tr th {\n",
       "        vertical-align: top;\n",
       "    }\n",
       "\n",
       "    .dataframe thead th {\n",
       "        text-align: right;\n",
       "    }\n",
       "</style>\n",
       "<table border=\"1\" class=\"dataframe\">\n",
       "  <thead>\n",
       "    <tr style=\"text-align: right;\">\n",
       "      <th></th>\n",
       "      <th>sum_sq</th>\n",
       "      <th>df</th>\n",
       "      <th>F</th>\n",
       "      <th>PR(&gt;F)</th>\n",
       "      <th>eta_sq</th>\n",
       "      <th>sum_sq_rank</th>\n",
       "    </tr>\n",
       "  </thead>\n",
       "  <tbody>\n",
       "    <tr>\n",
       "      <th>scale(hot_spot_discover_rate)</th>\n",
       "      <td>0.008484</td>\n",
       "      <td>1.0</td>\n",
       "      <td>17.392052</td>\n",
       "      <td>6.573900e-05</td>\n",
       "      <td>0.046437</td>\n",
       "      <td>2.0</td>\n",
       "    </tr>\n",
       "    <tr>\n",
       "      <th>scale(non_hot_spot_discover_rate)</th>\n",
       "      <td>0.125916</td>\n",
       "      <td>1.0</td>\n",
       "      <td>258.118097</td>\n",
       "      <td>3.276745e-29</td>\n",
       "      <td>0.689176</td>\n",
       "      <td>1.0</td>\n",
       "    </tr>\n",
       "    <tr>\n",
       "      <th>scale(hot_spot_effect_size)</th>\n",
       "      <td>0.000054</td>\n",
       "      <td>1.0</td>\n",
       "      <td>0.110810</td>\n",
       "      <td>7.399347e-01</td>\n",
       "      <td>0.000296</td>\n",
       "      <td>5.0</td>\n",
       "    </tr>\n",
       "    <tr>\n",
       "      <th>scale(hot_spot_discover_rate):scale(non_hot_spot_discover_rate)</th>\n",
       "      <td>0.000321</td>\n",
       "      <td>1.0</td>\n",
       "      <td>0.658269</td>\n",
       "      <td>4.191380e-01</td>\n",
       "      <td>0.001758</td>\n",
       "      <td>3.0</td>\n",
       "    </tr>\n",
       "    <tr>\n",
       "      <th>scale(hot_spot_discover_rate):scale(hot_spot_effect_size)</th>\n",
       "      <td>0.000030</td>\n",
       "      <td>1.0</td>\n",
       "      <td>0.061797</td>\n",
       "      <td>8.041978e-01</td>\n",
       "      <td>0.000165</td>\n",
       "      <td>6.0</td>\n",
       "    </tr>\n",
       "    <tr>\n",
       "      <th>scale(non_hot_spot_discover_rate):scale(hot_spot_effect_size)</th>\n",
       "      <td>0.000093</td>\n",
       "      <td>1.0</td>\n",
       "      <td>0.190372</td>\n",
       "      <td>6.635671e-01</td>\n",
       "      <td>0.000508</td>\n",
       "      <td>4.0</td>\n",
       "    </tr>\n",
       "  </tbody>\n",
       "</table>\n",
       "</div>"
      ],
      "text/plain": [
       "                                                      sum_sq   df           F  \\\n",
       "scale(hot_spot_discover_rate)                       0.008484  1.0   17.392052   \n",
       "scale(non_hot_spot_discover_rate)                   0.125916  1.0  258.118097   \n",
       "scale(hot_spot_effect_size)                         0.000054  1.0    0.110810   \n",
       "scale(hot_spot_discover_rate):scale(non_hot_spo...  0.000321  1.0    0.658269   \n",
       "scale(hot_spot_discover_rate):scale(hot_spot_ef...  0.000030  1.0    0.061797   \n",
       "scale(non_hot_spot_discover_rate):scale(hot_spo...  0.000093  1.0    0.190372   \n",
       "\n",
       "                                                          PR(>F)    eta_sq  \\\n",
       "scale(hot_spot_discover_rate)                       6.573900e-05  0.046437   \n",
       "scale(non_hot_spot_discover_rate)                   3.276745e-29  0.689176   \n",
       "scale(hot_spot_effect_size)                         7.399347e-01  0.000296   \n",
       "scale(hot_spot_discover_rate):scale(non_hot_spo...  4.191380e-01  0.001758   \n",
       "scale(hot_spot_discover_rate):scale(hot_spot_ef...  8.041978e-01  0.000165   \n",
       "scale(non_hot_spot_discover_rate):scale(hot_spo...  6.635671e-01  0.000508   \n",
       "\n",
       "                                                    sum_sq_rank  \n",
       "scale(hot_spot_discover_rate)                               2.0  \n",
       "scale(non_hot_spot_discover_rate)                           1.0  \n",
       "scale(hot_spot_effect_size)                                 5.0  \n",
       "scale(hot_spot_discover_rate):scale(non_hot_spo...          3.0  \n",
       "scale(hot_spot_discover_rate):scale(hot_spot_ef...          6.0  \n",
       "scale(non_hot_spot_discover_rate):scale(hot_spo...          4.0  "
      ]
     },
     "execution_count": 8,
     "metadata": {},
     "output_type": "execute_result"
    }
   ],
   "source": [
    "table"
   ]
  },
  {
   "cell_type": "markdown",
   "metadata": {},
   "source": [
    "### Get sampling configuration of 2-coverage and 3-coverage"
   ]
  },
  {
   "cell_type": "code",
   "execution_count": 9,
   "metadata": {},
   "outputs": [
    {
     "name": "stdout",
     "output_type": "stream",
     "text": [
      "35 105\n"
     ]
    }
   ],
   "source": [
    "from covertable import make, sorters, criteria\n",
    "X = data[['hot_spot_discover_rate', 'non_hot_spot_discover_rate', 'hot_spot_effect_size']]\n",
    "hot_spot_discover_rate_unique = X['hot_spot_discover_rate'].unique()\n",
    "non_hot_spot_discover_rate_unique = X['non_hot_spot_discover_rate'].unique()\n",
    "hot_spot_effect_size_unique = X['hot_spot_effect_size'].unique()\n",
    "\n",
    "sample_2 = make([hot_spot_discover_rate_unique, non_hot_spot_discover_rate_unique, hot_spot_effect_size_unique], length=2)\n",
    "sample_2 = [tuple(x) for x in sample_2]\n",
    "print(len(sample_2), len(data))"
   ]
  },
  {
   "cell_type": "code",
   "execution_count": 11,
   "metadata": {},
   "outputs": [],
   "source": [
    "sample_data_2 = data[data[['hot_spot_discover_rate', 'non_hot_spot_discover_rate', 'hot_spot_effect_size']].apply(tuple, axis=1).isin(sample_2)]"
   ]
  },
  {
   "cell_type": "markdown",
   "metadata": {},
   "source": [
    "## Fit regression model for sampled data"
   ]
  },
  {
   "cell_type": "code",
   "execution_count": 13,
   "metadata": {},
   "outputs": [],
   "source": [
    "# fit lm for 2-coverage sampling\n",
    "lm_2 = ols('max_increase_unfairness_rln ~ (scale(hot_spot_discover_rate) + scale(non_hot_spot_discover_rate) + scale(hot_spot_effect_size))**2', data=sample_data_2).fit()"
   ]
  },
  {
   "cell_type": "code",
   "execution_count": 14,
   "metadata": {},
   "outputs": [
    {
     "name": "stdout",
     "output_type": "stream",
     "text": [
      "0.0004552998820509805 0.000642174774719797\n"
     ]
    }
   ],
   "source": [
    "# compute the MSE for original lm\n",
    "mse = np.mean((lm.predict(data) - data['max_increase_unfairness_rln'])**2)\n",
    "# compute the MSE for 2-coverage sampling lm\n",
    "mse_2 = np.mean((lm_2.predict(data) - data['max_increase_unfairness_rln'])**2)\n",
    "\n",
    "print(mse, mse_2)"
   ]
  },
  {
   "cell_type": "code",
   "execution_count": 23,
   "metadata": {},
   "outputs": [],
   "source": [
    "# get the anova table for 2-coverage sampling\n",
    "table_2 = sm.stats.anova_lm(lm_2, typ=2)\n",
    "\n",
    "# remove residuals\n",
    "table_2 = table_2.iloc[:-1]\n",
    "\n",
    "# get the ranking of the features based on sum of squares of anova table\n",
    "table_2['sum_sq_rank'] = table_2['sum_sq'].rank(ascending=False)"
   ]
  },
  {
   "cell_type": "code",
   "execution_count": 16,
   "metadata": {},
   "outputs": [
    {
     "data": {
      "text/html": [
       "<table class=\"simpletable\">\n",
       "<caption>OLS Regression Results</caption>\n",
       "<tr>\n",
       "  <th>Dep. Variable:</th>    <td>max_increase_unfairness_rln</td> <th>  R-squared:         </th> <td>   0.841</td>\n",
       "</tr>\n",
       "<tr>\n",
       "  <th>Model:</th>                        <td>OLS</td>             <th>  Adj. R-squared:    </th> <td>   0.807</td>\n",
       "</tr>\n",
       "<tr>\n",
       "  <th>Method:</th>                  <td>Least Squares</td>        <th>  F-statistic:       </th> <td>   24.66</td>\n",
       "</tr>\n",
       "<tr>\n",
       "  <th>Date:</th>                  <td>Tue, 12 Nov 2024</td>       <th>  Prob (F-statistic):</th> <td>5.81e-10</td>\n",
       "</tr>\n",
       "<tr>\n",
       "  <th>Time:</th>                      <td>19:54:07</td>           <th>  Log-Likelihood:    </th> <td>  93.231</td>\n",
       "</tr>\n",
       "<tr>\n",
       "  <th>No. Observations:</th>           <td>    35</td>            <th>  AIC:               </th> <td>  -172.5</td>\n",
       "</tr>\n",
       "<tr>\n",
       "  <th>Df Residuals:</th>               <td>    28</td>            <th>  BIC:               </th> <td>  -161.6</td>\n",
       "</tr>\n",
       "<tr>\n",
       "  <th>Df Model:</th>                   <td>     6</td>            <th>                     </th>     <td> </td>   \n",
       "</tr>\n",
       "<tr>\n",
       "  <th>Covariance Type:</th>           <td>nonrobust</td>          <th>                     </th>     <td> </td>   \n",
       "</tr>\n",
       "</table>\n",
       "<table class=\"simpletable\">\n",
       "<tr>\n",
       "                                 <td></td>                                    <th>coef</th>     <th>std err</th>      <th>t</th>      <th>P>|t|</th>  <th>[0.025</th>    <th>0.975]</th>  \n",
       "</tr>\n",
       "<tr>\n",
       "  <th>Intercept</th>                                                       <td>    0.3047</td> <td>    0.003</td> <td>   94.849</td> <td> 0.000</td> <td>    0.298</td> <td>    0.311</td>\n",
       "</tr>\n",
       "<tr>\n",
       "  <th>scale(hot_spot_discover_rate)</th>                                   <td>    0.0125</td> <td>    0.003</td> <td>    3.704</td> <td> 0.001</td> <td>    0.006</td> <td>    0.019</td>\n",
       "</tr>\n",
       "<tr>\n",
       "  <th>scale(non_hot_spot_discover_rate)</th>                               <td>   -0.0381</td> <td>    0.003</td> <td>  -11.580</td> <td> 0.000</td> <td>   -0.045</td> <td>   -0.031</td>\n",
       "</tr>\n",
       "<tr>\n",
       "  <th>scale(hot_spot_effect_size)</th>                                     <td>    0.0048</td> <td>    0.003</td> <td>    1.437</td> <td> 0.162</td> <td>   -0.002</td> <td>    0.012</td>\n",
       "</tr>\n",
       "<tr>\n",
       "  <th>scale(hot_spot_discover_rate):scale(non_hot_spot_discover_rate)</th> <td>   -0.0022</td> <td>    0.003</td> <td>   -0.681</td> <td> 0.501</td> <td>   -0.009</td> <td>    0.004</td>\n",
       "</tr>\n",
       "<tr>\n",
       "  <th>scale(hot_spot_discover_rate):scale(hot_spot_effect_size)</th>       <td>    0.0069</td> <td>    0.003</td> <td>    2.006</td> <td> 0.055</td> <td>   -0.000</td> <td>    0.014</td>\n",
       "</tr>\n",
       "<tr>\n",
       "  <th>scale(non_hot_spot_discover_rate):scale(hot_spot_effect_size)</th>   <td>   -0.0042</td> <td>    0.004</td> <td>   -1.180</td> <td> 0.248</td> <td>   -0.011</td> <td>    0.003</td>\n",
       "</tr>\n",
       "</table>\n",
       "<table class=\"simpletable\">\n",
       "<tr>\n",
       "  <th>Omnibus:</th>       <td> 4.152</td> <th>  Durbin-Watson:     </th> <td>   0.950</td>\n",
       "</tr>\n",
       "<tr>\n",
       "  <th>Prob(Omnibus):</th> <td> 0.125</td> <th>  Jarque-Bera (JB):  </th> <td>   2.831</td>\n",
       "</tr>\n",
       "<tr>\n",
       "  <th>Skew:</th>          <td> 0.651</td> <th>  Prob(JB):          </th> <td>   0.243</td>\n",
       "</tr>\n",
       "<tr>\n",
       "  <th>Kurtosis:</th>      <td> 3.498</td> <th>  Cond. No.          </th> <td>    1.62</td>\n",
       "</tr>\n",
       "</table><br/><br/>Notes:<br/>[1] Standard Errors assume that the covariance matrix of the errors is correctly specified."
      ],
      "text/plain": [
       "<class 'statsmodels.iolib.summary.Summary'>\n",
       "\"\"\"\n",
       "                                 OLS Regression Results                                \n",
       "=======================================================================================\n",
       "Dep. Variable:     max_increase_unfairness_rln   R-squared:                       0.841\n",
       "Model:                                     OLS   Adj. R-squared:                  0.807\n",
       "Method:                          Least Squares   F-statistic:                     24.66\n",
       "Date:                         Tue, 12 Nov 2024   Prob (F-statistic):           5.81e-10\n",
       "Time:                                 19:54:07   Log-Likelihood:                 93.231\n",
       "No. Observations:                           35   AIC:                            -172.5\n",
       "Df Residuals:                               28   BIC:                            -161.6\n",
       "Df Model:                                    6                                         \n",
       "Covariance Type:                     nonrobust                                         \n",
       "===================================================================================================================================\n",
       "                                                                      coef    std err          t      P>|t|      [0.025      0.975]\n",
       "-----------------------------------------------------------------------------------------------------------------------------------\n",
       "Intercept                                                           0.3047      0.003     94.849      0.000       0.298       0.311\n",
       "scale(hot_spot_discover_rate)                                       0.0125      0.003      3.704      0.001       0.006       0.019\n",
       "scale(non_hot_spot_discover_rate)                                  -0.0381      0.003    -11.580      0.000      -0.045      -0.031\n",
       "scale(hot_spot_effect_size)                                         0.0048      0.003      1.437      0.162      -0.002       0.012\n",
       "scale(hot_spot_discover_rate):scale(non_hot_spot_discover_rate)    -0.0022      0.003     -0.681      0.501      -0.009       0.004\n",
       "scale(hot_spot_discover_rate):scale(hot_spot_effect_size)           0.0069      0.003      2.006      0.055      -0.000       0.014\n",
       "scale(non_hot_spot_discover_rate):scale(hot_spot_effect_size)      -0.0042      0.004     -1.180      0.248      -0.011       0.003\n",
       "==============================================================================\n",
       "Omnibus:                        4.152   Durbin-Watson:                   0.950\n",
       "Prob(Omnibus):                  0.125   Jarque-Bera (JB):                2.831\n",
       "Skew:                           0.651   Prob(JB):                        0.243\n",
       "Kurtosis:                       3.498   Cond. No.                         1.62\n",
       "==============================================================================\n",
       "\n",
       "Notes:\n",
       "[1] Standard Errors assume that the covariance matrix of the errors is correctly specified.\n",
       "\"\"\""
      ]
     },
     "execution_count": 16,
     "metadata": {},
     "output_type": "execute_result"
    }
   ],
   "source": [
    "lm_2.summary()"
   ]
  },
  {
   "cell_type": "code",
   "execution_count": 69,
   "metadata": {},
   "outputs": [
    {
     "name": "stdout",
     "output_type": "stream",
     "text": [
      "0.738339693762782 0.6309429129345043\n"
     ]
    }
   ],
   "source": [
    "from sklearn.metrics import r2_score\n",
    "# compute the R2 for 2 lm\n",
    "r2 = r2_score(data['max_increase_unfairness_rln'], lm.predict(data))\n",
    "r2_2 = r2_score(data['max_increase_unfairness_rln'], lm_2.predict(data))\n",
    "print(r2, r2_2)"
   ]
  },
  {
   "cell_type": "markdown",
   "metadata": {},
   "source": [
    "## Compare the feature ranking between baseline and sampling"
   ]
  },
  {
   "cell_type": "code",
   "execution_count": 72,
   "metadata": {},
   "outputs": [
    {
     "name": "stdout",
     "output_type": "stream",
     "text": [
      "KendalltauResult(correlation=1.0, pvalue=1.0)\n"
     ]
    }
   ],
   "source": [
    "# compute Kendall Tau\n",
    "from scipy.stats import kendalltau\n",
    "print(kendalltau(table.loc[statistically_significant_variables]['sum_sq_rank'], table_2.loc[statistically_significant_variables]['sum_sq_rank']))"
   ]
  },
  {
   "cell_type": "code",
   "execution_count": 71,
   "metadata": {},
   "outputs": [
    {
     "name": "stdout",
     "output_type": "stream",
     "text": [
      "1.0\n"
     ]
    }
   ],
   "source": [
    "# compute Rank Biased Overlap\n",
    "from rbo import rbo\n",
    "# get the ranked features based on sum_sq_rank for statistically significant variables\n",
    "ranked_features_gt_sig = table.loc[statistically_significant_variables].sort_values(by=['sum_sq_rank']).index.to_list()\n",
    "ranked_features_2_sig = table_2.loc[statistically_significant_variables].sort_values(by=['sum_sq_rank']).index.to_list()\n",
    "\n",
    "# compute Rank Biased Overlap\n",
    "print(rbo.RankingSimilarity(ranked_features_gt_sig, ranked_features_2_sig).rbo_ext(p=0.8))"
   ]
  },
  {
   "cell_type": "code",
   "execution_count": 70,
   "metadata": {},
   "outputs": [
    {
     "data": {
      "text/plain": [
       "['scale(non_hot_spot_discover_rate)',\n",
       " 'scale(hot_spot_discover_rate)',\n",
       " 'scale(hot_spot_discover_rate):scale(hot_spot_effect_size)',\n",
       " 'scale(hot_spot_effect_size)',\n",
       " 'scale(non_hot_spot_discover_rate):scale(hot_spot_effect_size)',\n",
       " 'scale(hot_spot_discover_rate):scale(non_hot_spot_discover_rate)']"
      ]
     },
     "execution_count": 70,
     "metadata": {},
     "output_type": "execute_result"
    }
   ],
   "source": [
    "ranked_features_2"
   ]
  },
  {
   "cell_type": "markdown",
   "metadata": {},
   "source": [
    "## Trade-off Analysis"
   ]
  },
  {
   "cell_type": "code",
   "execution_count": 13,
   "metadata": {},
   "outputs": [],
   "source": [
    "\n",
    "# Adjusting the Pareto efficiency function for the new criteria\n",
    "def is_pareto_efficient_minimize_cost(costs, returns):\n",
    "    \"\"\"\n",
    "    Identify the Pareto efficient points for minimizing costs and maximizing returns\n",
    "    :param costs: An array of costs to minimize\n",
    "    :param returns: An array of returns to maximize\n",
    "    :return: A boolean array, where True indicates Pareto efficiency\n",
    "    \"\"\"\n",
    "    is_efficient = np.ones(costs.shape[0], dtype=bool)\n",
    "    for i, c in enumerate(costs):\n",
    "        if is_efficient[i]:\n",
    "            is_efficient[is_efficient] = np.logical_not(np.logical_and(returns[is_efficient] <= returns[i], costs[is_efficient] >= c))\n",
    "            is_efficient[i] = True  # And keep self\n",
    "    return is_efficient"
   ]
  },
  {
   "cell_type": "code",
   "execution_count": 14,
   "metadata": {},
   "outputs": [
    {
     "data": {
      "text/plain": [
       "<matplotlib.legend.Legend at 0x1b6fa08a348>"
      ]
     },
     "execution_count": 14,
     "metadata": {},
     "output_type": "execute_result"
    },
    {
     "data": {
      "image/png": "[encoded data removed]",
      "text/plain": [
       "<Figure size 720x432 with 1 Axes>"
      ]
     },
     "metadata": {
      "needs_background": "light"
     },
     "output_type": "display_data"
    }
   ],
   "source": [
    "pareto_minimize_cost = is_pareto_efficient_minimize_cost(data['max_increase_unfairness_rln'].values, data['avg_utility_total_discover_n'].values)\n",
    "\n",
    "# Re-plotting the data with updated Pareto optimal points\n",
    "plt.figure(figsize=(10, 6))\n",
    "plt.scatter(data['max_increase_unfairness_rln'], data['avg_utility_total_discover_n'], alpha=0.5, label='Configurations', marker='x', color='mediumaquamarine')\n",
    "plt.scatter(data['max_increase_unfairness_rln'][pareto_minimize_cost], data['avg_utility_total_discover_n'][pareto_minimize_cost], color='r', marker='x', label='Pareto optimal (minimize unfairness)')\n",
    "plt.title('Trade-Off Analysis: Average Increase in Unfairness vs Average Utility ')\n",
    "plt.xlabel('Average Increase in Unfairness (relative number)')\n",
    "plt.ylabel('Average Utility (total number of incidents discovered)')\n",
    "plt.grid()\n",
    "plt.legend()"
   ]
  },
  {
   "cell_type": "code",
   "execution_count": 15,
   "metadata": {},
   "outputs": [],
   "source": [
    "import matplotlib.pyplot as plt\n",
    "import pandas as pd\n",
    "import numpy as np\n",
    "from math import pi\n",
    "from sklearn.preprocessing import MinMaxScaler\n",
    "\n",
    "def plot_spider_chart(df, features, path=None):\n",
    "    # Number of variables we're plotting.\n",
    "    num_vars = len(features)\n",
    "\n",
    "    # Compute angle each bar is centered on:\n",
    "    angles = np.linspace(0, 2 * np.pi, num_vars, endpoint=False).tolist()\n",
    "\n",
    "    # The plot is circular, so we need to \"complete the loop\" and append the start to the end.\n",
    "    angles += angles[:1]\n",
    "\n",
    "    sns.set_context('paper', font_scale=1.4)\n",
    "\n",
    "    # Initialize the spider plot\n",
    "    fig, ax = plt.subplots(figsize=(6, 6), subplot_kw=dict(polar=True))\n",
    "\n",
    "    # Draw one axe per variable and add labels\n",
    "    plt.xticks(angles[:-1], features, size=20)\n",
    "\n",
    "    # Draw ylabels\n",
    "    ax.set_rlabel_position(0)\n",
    "    plt.yticks([0.25, 0.5, 0.75], [\"0.25\", \"0.5\", \"0.75\"], color=\"grey\", size=15)\n",
    "    plt.ylim(0, 1)\n",
    "\n",
    "    line_styles = ['solid', (0, (5, 10)),'dotted', (5, (10, 3)), 'dashdot']  # List of line styles\n",
    "\n",
    "    i = 0\n",
    "    for idx, row in df.iterrows():\n",
    "        values = row.values.flatten().tolist()\n",
    "        values += values[:1]\n",
    "        line_style = line_styles[i % len(line_styles)]  # Get the line style based on the index\n",
    "        ax.plot(angles, values, linewidth=1, linestyle=line_style, label=f'Config {idx}')\n",
    "        ax.fill(angles, values, alpha=0.1)\n",
    "        i += 1\n",
    "\n",
    "\n",
    "    # Add legend\n",
    "    plt.legend(loc='upper right', bbox_to_anchor=(0.1, 0.1))\n",
    "\n",
    "    if path:\n",
    "        plt.savefig(path, format=\"pdf\", bbox_inches=\"tight\")"
   ]
  },
  {
   "cell_type": "code",
   "execution_count": 18,
   "metadata": {},
   "outputs": [
    {
     "name": "stdout",
     "output_type": "stream",
     "text": [
      "\n"
     ]
    },
    {
     "data": {
      "image/png": "[encoded data removed]",
      "text/plain": [
       "<Figure size 432x432 with 1 Axes>"
      ]
     },
     "metadata": {},
     "output_type": "display_data"
    }
   ],
   "source": [
    "scaler = MinMaxScaler()\n",
    "features = ['max_increase_unfairness_rln', 'avg_increase_unfairness_rln', 'avg_utility_mean_discover_rate', 'avg_utility_total_discover_n',\n",
    "       'avg_n_correct_hotspot']\n",
    "print()\n",
    "df_normalized = pd.DataFrame(scaler.fit_transform(data[features]), \n",
    "                             columns=features)\n",
    "for f in features[:2]:\n",
    "    df_normalized[f] = 1 - df_normalized[f]\n",
    "# new_feature_names = ['1-max_increase_unfairness_rln', '1-avg_mean_unfairness_rln', 'avg_utility_mean_discover_rate', 'avg_utility_total_discover_n',\n",
    "       # 'avg_n_correct_hotspot']\n",
    "new_feature_names = ['max_inc_rln', 'avg_inc_rln', 'util_discover_rate', 'util_total_discover',\n",
    "       'util_correct_hotspot']\n",
    "pareto_data_features = df_normalized[pareto_minimize_cost][features]\n",
    "pareto_data_features.index = ['c1', 'c2', 'c3']\n",
    "plot_spider_chart(pareto_data_features, new_feature_names, 'radar.pdf')"
   ]
  },
  {
   "cell_type": "code",
   "execution_count": 19,
   "metadata": {},
   "outputs": [
    {
     "data": {
      "text/html": [
       "<div>\n",
       "<style scoped>\n",
       "    .dataframe tbody tr th:only-of-type {\n",
       "        vertical-align: middle;\n",
       "    }\n",
       "\n",
       "    .dataframe tbody tr th {\n",
       "        vertical-align: top;\n",
       "    }\n",
       "\n",
       "    .dataframe thead th {\n",
       "        text-align: right;\n",
       "    }\n",
       "</style>\n",
       "<table border=\"1\" class=\"dataframe\">\n",
       "  <thead>\n",
       "    <tr style=\"text-align: right;\">\n",
       "      <th></th>\n",
       "      <th>Unnamed: 0</th>\n",
       "      <th>hot_spot_discover_rate</th>\n",
       "      <th>non_hot_spot_discover_rate</th>\n",
       "      <th>hot_spot_effect_size</th>\n",
       "      <th>avg_max_unfairness_rln</th>\n",
       "      <th>avg_mean_unfairness_rln</th>\n",
       "      <th>initial_unfairness_rln</th>\n",
       "      <th>avg_utility_mean_discover_rate</th>\n",
       "      <th>avg_utility_total_discover_n</th>\n",
       "      <th>avg_n_correct_hotspot</th>\n",
       "      <th>n_traces</th>\n",
       "      <th>max_increase_unfairness_rln</th>\n",
       "      <th>avg_increase_unfairness_rln</th>\n",
       "    </tr>\n",
       "  </thead>\n",
       "  <tbody>\n",
       "    <tr>\n",
       "      <th>70</th>\n",
       "      <td>70</td>\n",
       "      <td>1.00</td>\n",
       "      <td>0.5</td>\n",
       "      <td>3</td>\n",
       "      <td>0.273019</td>\n",
       "      <td>0.149605</td>\n",
       "      <td>0.007391</td>\n",
       "      <td>0.843608</td>\n",
       "      <td>41853.125</td>\n",
       "      <td>16.442813</td>\n",
       "      <td>32</td>\n",
       "      <td>0.265628</td>\n",
       "      <td>0.142214</td>\n",
       "    </tr>\n",
       "    <tr>\n",
       "      <th>77</th>\n",
       "      <td>77</td>\n",
       "      <td>0.95</td>\n",
       "      <td>0.5</td>\n",
       "      <td>3</td>\n",
       "      <td>0.255429</td>\n",
       "      <td>0.143653</td>\n",
       "      <td>0.007391</td>\n",
       "      <td>0.810846</td>\n",
       "      <td>40227.125</td>\n",
       "      <td>16.455547</td>\n",
       "      <td>32</td>\n",
       "      <td>0.248038</td>\n",
       "      <td>0.136262</td>\n",
       "    </tr>\n",
       "    <tr>\n",
       "      <th>98</th>\n",
       "      <td>98</td>\n",
       "      <td>0.80</td>\n",
       "      <td>0.5</td>\n",
       "      <td>3</td>\n",
       "      <td>0.245362</td>\n",
       "      <td>0.146700</td>\n",
       "      <td>0.007391</td>\n",
       "      <td>0.710151</td>\n",
       "      <td>35230.000</td>\n",
       "      <td>16.451250</td>\n",
       "      <td>16</td>\n",
       "      <td>0.237971</td>\n",
       "      <td>0.139309</td>\n",
       "    </tr>\n",
       "  </tbody>\n",
       "</table>\n",
       "</div>"
      ],
      "text/plain": [
       "    Unnamed: 0  hot_spot_discover_rate  non_hot_spot_discover_rate  \\\n",
       "70          70                    1.00                         0.5   \n",
       "77          77                    0.95                         0.5   \n",
       "98          98                    0.80                         0.5   \n",
       "\n",
       "    hot_spot_effect_size  avg_max_unfairness_rln  avg_mean_unfairness_rln  \\\n",
       "70                     3                0.273019                 0.149605   \n",
       "77                     3                0.255429                 0.143653   \n",
       "98                     3                0.245362                 0.146700   \n",
       "\n",
       "    initial_unfairness_rln  avg_utility_mean_discover_rate  \\\n",
       "70                0.007391                        0.843608   \n",
       "77                0.007391                        0.810846   \n",
       "98                0.007391                        0.710151   \n",
       "\n",
       "    avg_utility_total_discover_n  avg_n_correct_hotspot  n_traces  \\\n",
       "70                     41853.125              16.442813        32   \n",
       "77                     40227.125              16.455547        32   \n",
       "98                     35230.000              16.451250        16   \n",
       "\n",
       "    max_increase_unfairness_rln  avg_increase_unfairness_rln  \n",
       "70                     0.265628                     0.142214  \n",
       "77                     0.248038                     0.136262  \n",
       "98                     0.237971                     0.139309  "
      ]
     },
     "execution_count": 19,
     "metadata": {},
     "output_type": "execute_result"
    }
   ],
   "source": [
    "data[pareto_minimize_cost]"
   ]
  }
 ],
 "metadata": {
  "kernelspec": {
   "display_name": "feedbackloop",
   "language": "python",
   "name": "python3"
  },
  "language_info": {
   "codemirror_mode": {
    "name": "ipython",
    "version": 3
   },
   "file_extension": ".py",
   "mimetype": "text/x-python",
   "name": "python",
   "nbconvert_exporter": "python",
   "pygments_lexer": "ipython3",
   "version": "3.7.13"
  },
  "orig_nbformat": 4
 },
 "nbformat": 4,
 "nbformat_minor": 2
}
