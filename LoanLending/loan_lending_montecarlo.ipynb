{
 "cells": [
  {
   "cell_type": "code",
   "execution_count": 1,
   "metadata": {},
   "outputs": [],
   "source": [
    "import numpy as np\n",
    "from classes import Group, Environment, PredictiveModel, DecisionModel\n",
    "import tqdm\n",
    "import fico\n",
    "import distribution_to_loans_outcomes as dlo\n",
    "import pandas as pd\n",
    "import time\n",
    "import loan_lending_experiment\n",
    "import loan_lending_fairness_metric\n",
    "import pickle\n",
    "import matplotlib.pyplot as plt\n",
    "\n",
    "import os\n",
    "import sys\n",
    "sys.path.insert(0, os.getcwd() + '/../')\n",
    "import vanilla_monte_carlo"
   ]
  },
  {
   "cell_type": "code",
   "execution_count": 2,
   "metadata": {},
   "outputs": [
    {
     "name": "stdout",
     "output_type": "stream",
     "text": [
      "{'Asian': 7906, 'White': 133165, 'Hispanic': 14702, 'Black': 18274}\n"
     ]
    }
   ],
   "source": [
    "DATA_DIR = './data/'\n",
    "all_cdfs, performance, totals = fico.get_FICO_data(data_dir=DATA_DIR, do_convert_percentiles=False)\n",
    "cdfs = all_cdfs[[\"White\",\"Black\"]]\n",
    "\n",
    "cdf_B = cdfs['White'].values\n",
    "cdf_A = cdfs['Black'].values\n",
    "\n",
    "repay_B = performance['White']\n",
    "repay_A = performance['Black']\n",
    "\n",
    "scores = cdfs.index\n",
    "scores_list = scores.tolist()\n",
    "scores_repay = cdfs.index\n",
    "\n",
    "# to populate group distributions\n",
    "def get_pmf(cdf):\n",
    "    pis = np.zeros(cdf.size)\n",
    "    pis[0] = cdf[0]\n",
    "    for score in range(cdf.size-1):\n",
    "        pis[score+1] = cdf[score+1] - cdf[score]\n",
    "    return pis\n",
    "\n",
    "# to get loan repay probabilities for a given score\n",
    "# loan_repaid_probs = [lambda i: repay_A[scores[scores.get_loc(i,method='nearest')]], \n",
    "#                      lambda i: repay_B[scores[scores.get_loc(i,method='nearest')]]]\n",
    "def get_repay_A(i):\n",
    "    return repay_A[scores[scores.get_loc(i, method='nearest')]]\n",
    "def get_repay_B(i):\n",
    "    return repay_B[scores[scores.get_loc(i, method='nearest')]]\n",
    "loan_repaid_probs = [loan_lending_experiment.get_repay_A, loan_lending_experiment.get_repay_B]\n",
    "\n",
    "# basic parameters\n",
    "N_scores = cdf_B.size\n",
    "N_groups = 2\n",
    "\n",
    "# get probability mass functions of each group\n",
    "pi_A = get_pmf(cdf_A)\n",
    "pi_B = get_pmf(cdf_B)\n",
    "pis = np.vstack([pi_A, pi_B])\n",
    "\n",
    "# demographic statistics \n",
    "group_ratio = np.array((totals[\"Black\"], totals[\"White\"]))\n",
    "group_size_ratio = group_ratio/group_ratio.sum()\n",
    "\n",
    "print(totals)\n",
    "\n",
    "utility_repaid = 1\n",
    "utility_default = -5\n",
    "util_repay = [utility_default,utility_repaid]\n",
    "score_change_repay = 13.5\n",
    "score_change_default = -27\n",
    "score_change = [score_change_repay, score_change_default]\n",
    "# init groups people \n",
    "people_black = (pi_A * totals[\"Black\"]).astype(int)\n",
    "people_white = (pi_B * totals[\"White\"]).astype(int)\n",
    "people_distribution = [people_black, people_white]\n",
    "\n",
    "# rename the repay prob\n",
    "repay_black = np.array(repay_A)\n",
    "repay_white = np.array(repay_B)\n",
    "repay_probs = [repay_black, repay_white]\n",
    "######################################################################\n",
    "sample_rate = 0.1\n",
    "n_time_steps = 20"
   ]
  },
  {
   "cell_type": "code",
   "execution_count": 3,
   "metadata": {},
   "outputs": [],
   "source": [
    "init_params = {'repay_repaid_probs_func':loan_repaid_probs, \n",
    "               'repay_probs':repay_probs,\n",
    "               'people_dist':people_distribution, \n",
    "               'scores_list':scores_list}\n",
    "potential_fairness_requirements = [0.3]\n",
    "potential_sample_rate_mean = [0.05]\n",
    "potential_sample_rate_std = [0.01]\n",
    "potential_score_change_repay = [8, 12, 16, 20]\n",
    "potential_score_change_default = [-16, -24, -32, -40]\n",
    "potential_score_update_mode = ['equal', 'small_var', 'large_var']\n",
    "potential_agent = ['eqopp', 'maxprof']\n",
    "potential_utility_default = list(range(-10, -2))\n",
    "\n",
    "# get all possible combinations of parameters\n",
    "all_params = [potential_fairness_requirements, \n",
    "                potential_sample_rate_mean, \n",
    "                potential_sample_rate_std, \n",
    "                potential_score_change_repay, \n",
    "                potential_score_change_default,\n",
    "                potential_utility_default,\n",
    "                potential_score_update_mode,\n",
    "                potential_agent]\n",
    "all_params = np.array(np.meshgrid(*all_params)).T.reshape(-1,len(all_params))\n",
    "\n",
    "all_configs = []\n",
    "n_time_steps = 20\n",
    "for id, params in enumerate(all_params):\n",
    "    fairness_requirement, sample_rate_mean, sample_rate_std, \\\n",
    "        score_change_repay, score_change_default, utility_default, score_update_mode, agent = params\n",
    "    score_change = [score_change_repay.astype(int), score_change_default.astype(int)]\n",
    "    utility_repaid = 1\n",
    "    util_repay = [utility_default.astype(int),utility_repaid]\n",
    "    demo_parity = loan_lending_fairness_metric.DemographicParity(fairness_requirement.astype(float))\n",
    "    bank_utility = loan_lending_fairness_metric.BankAgentUtility(utility_default.astype(int))\n",
    "    configuration = loan_lending_experiment.LoanLendingConfiguration(score_change, \n",
    "                                                                        score_update_mode,\n",
    "                                                                        util_repay,\n",
    "                                                                        sample_rate_mean.astype(float),\n",
    "                                                                        sample_rate_std.astype(float),\n",
    "                                                                        demo_parity,\n",
    "                                                                        bank_utility,\n",
    "                                                                        agent,\n",
    "                                                                        n_time_steps)\n",
    "    all_configs.append([id, configuration])"
   ]
  },
  {
   "cell_type": "code",
   "execution_count": 19,
   "metadata": {},
   "outputs": [
    {
     "data": {
      "text/plain": [
       "768"
      ]
     },
     "execution_count": 19,
     "metadata": {},
     "output_type": "execute_result"
    }
   ],
   "source": [
    "len(all_configs)"
   ]
  },
  {
   "cell_type": "code",
   "execution_count": 29,
   "metadata": {},
   "outputs": [
    {
     "name": "stdout",
     "output_type": "stream",
     "text": [
      "score_update_params: [8, -40]\n",
      "score_update_mode: small_var\n",
      "util_repay_params: [-3, 1]\n",
      "sample_ratio_mean: 0.05\n",
      "sample_ratio_std: 0.01\n",
      "fairness_requirement: Demographic Parity: 0.3\n",
      "utility_metric: Bank Agent Real Utility:-3\n",
      "agent: eqopp\n",
      "n_time_steps: 20\n",
      "\n",
      "score_update_params: [12, -40]\n",
      "score_update_mode: small_var\n",
      "util_repay_params: [-3, 1]\n",
      "sample_ratio_mean: 0.05\n",
      "sample_ratio_std: 0.01\n",
      "fairness_requirement: Demographic Parity: 0.3\n",
      "utility_metric: Bank Agent Real Utility:-3\n",
      "agent: eqopp\n",
      "n_time_steps: 20\n",
      "\n",
      "score_update_params: [16, -40]\n",
      "score_update_mode: small_var\n",
      "util_repay_params: [-3, 1]\n",
      "sample_ratio_mean: 0.05\n",
      "sample_ratio_std: 0.01\n",
      "fairness_requirement: Demographic Parity: 0.3\n",
      "utility_metric: Bank Agent Real Utility:-3\n",
      "agent: eqopp\n",
      "n_time_steps: 20\n",
      "\n",
      "score_update_params: [20, -40]\n",
      "score_update_mode: small_var\n",
      "util_repay_params: [-3, 1]\n",
      "sample_ratio_mean: 0.05\n",
      "sample_ratio_std: 0.01\n",
      "fairness_requirement: Demographic Parity: 0.3\n",
      "utility_metric: Bank Agent Real Utility:-3\n",
      "agent: eqopp\n",
      "n_time_steps: 20\n",
      "\n",
      "score_update_params: [8, -16]\n",
      "score_update_mode: large_var\n",
      "util_repay_params: [-10, 1]\n",
      "sample_ratio_mean: 0.05\n",
      "sample_ratio_std: 0.01\n",
      "fairness_requirement: Demographic Parity: 0.3\n",
      "utility_metric: Bank Agent Real Utility:-10\n",
      "agent: eqopp\n",
      "n_time_steps: 20\n",
      "\n",
      "score_update_params: [12, -16]\n",
      "score_update_mode: large_var\n",
      "util_repay_params: [-10, 1]\n",
      "sample_ratio_mean: 0.05\n",
      "sample_ratio_std: 0.01\n",
      "fairness_requirement: Demographic Parity: 0.3\n",
      "utility_metric: Bank Agent Real Utility:-10\n",
      "agent: eqopp\n",
      "n_time_steps: 20\n",
      "\n",
      "score_update_params: [16, -16]\n",
      "score_update_mode: large_var\n",
      "util_repay_params: [-10, 1]\n",
      "sample_ratio_mean: 0.05\n",
      "sample_ratio_std: 0.01\n",
      "fairness_requirement: Demographic Parity: 0.3\n",
      "utility_metric: Bank Agent Real Utility:-10\n",
      "agent: eqopp\n",
      "n_time_steps: 20\n",
      "\n",
      "score_update_params: [20, -16]\n",
      "score_update_mode: large_var\n",
      "util_repay_params: [-10, 1]\n",
      "sample_ratio_mean: 0.05\n",
      "sample_ratio_std: 0.01\n",
      "fairness_requirement: Demographic Parity: 0.3\n",
      "utility_metric: Bank Agent Real Utility:-10\n",
      "agent: eqopp\n",
      "n_time_steps: 20\n",
      "\n",
      "score_update_params: [8, -24]\n",
      "score_update_mode: large_var\n",
      "util_repay_params: [-10, 1]\n",
      "sample_ratio_mean: 0.05\n",
      "sample_ratio_std: 0.01\n",
      "fairness_requirement: Demographic Parity: 0.3\n",
      "utility_metric: Bank Agent Real Utility:-10\n",
      "agent: eqopp\n",
      "n_time_steps: 20\n",
      "\n",
      "score_update_params: [12, -24]\n",
      "score_update_mode: large_var\n",
      "util_repay_params: [-10, 1]\n",
      "sample_ratio_mean: 0.05\n",
      "sample_ratio_std: 0.01\n",
      "fairness_requirement: Demographic Parity: 0.3\n",
      "utility_metric: Bank Agent Real Utility:-10\n",
      "agent: eqopp\n",
      "n_time_steps: 20\n",
      "\n"
     ]
    }
   ],
   "source": [
    "for i in range(252, 262):\n",
    "    print(all_configs[i][1])"
   ]
  },
  {
   "cell_type": "code",
   "execution_count": 20,
   "metadata": {},
   "outputs": [
    {
     "name": "stdout",
     "output_type": "stream",
     "text": [
      "Total time used: 1548.7129244804382 seconds\n",
      "Total time used: 2283.3472759723663 seconds\n",
      "Total time used: 2356.602772474289 seconds\n"
     ]
    }
   ],
   "source": [
    "# create a vanilla testing object\n",
    "if __name__ == '__main__':\n",
    "    stop_criteria = (loan_lending_experiment.MaxUnfairnessStopCriteria, 0.02)\n",
    "    vanilla_mc_test = vanilla_monte_carlo.VanillaMonteCarloTesting(all_configs[:252], init_params, loan_lending_experiment.LoanLendingMonteCarloSimulation, stop_criteria)\n",
    "    results0 = vanilla_mc_test.run_testing(n_threads=12, t_limit=60)\n",
    "    vanilla_mc_test = vanilla_monte_carlo.VanillaMonteCarloTesting(all_configs[252:504], init_params, loan_lending_experiment.LoanLendingMonteCarloSimulation, stop_criteria)\n",
    "    results1 = vanilla_mc_test.run_testing(n_threads=12, t_limit=240)\n",
    "    vanilla_mc_test = vanilla_monte_carlo.VanillaMonteCarloTesting(all_configs[504:], init_params, loan_lending_experiment.LoanLendingMonteCarloSimulation, stop_criteria)\n",
    "    results2 = vanilla_mc_test.run_testing(n_threads=12, t_limit=240)\n",
    "\n"
   ]
  },
  {
   "cell_type": "code",
   "execution_count": 22,
   "metadata": {},
   "outputs": [
    {
     "data": {
      "text/plain": [
       "768"
      ]
     },
     "execution_count": 22,
     "metadata": {},
     "output_type": "execute_result"
    }
   ],
   "source": [
    "results = results0 + results1 + results2\n",
    "len(results)"
   ]
  },
  {
   "cell_type": "code",
   "execution_count": 23,
   "metadata": {},
   "outputs": [],
   "source": [
    "results = results0 + results1 + results2\n",
    "import pickle\n",
    "with open('simulation_results/results768_w_utility.pkl', 'wb') as f:\n",
    "    pickle.dump(results, f)"
   ]
  }
 ],
 "metadata": {
  "kernelspec": {
   "display_name": "feedbackloop",
   "language": "python",
   "name": "python3"
  },
  "language_info": {
   "codemirror_mode": {
    "name": "ipython",
    "version": 3
   },
   "file_extension": ".py",
   "mimetype": "text/x-python",
   "name": "python",
   "nbconvert_exporter": "python",
   "pygments_lexer": "ipython3",
   "version": "3.7.13"
  },
  "orig_nbformat": 4
 },
 "nbformat": 4,
 "nbformat_minor": 2
}
