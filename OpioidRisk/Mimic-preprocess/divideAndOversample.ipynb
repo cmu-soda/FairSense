{
 "cells": [
  {
   "cell_type": "code",
   "execution_count": 1,
   "metadata": {
    "collapsed": true
   },
   "outputs": [],
   "source": [
    "import numpy as np\n",
    "import pandas as pd\n",
    "import pickle\n",
    "import sklearn\n",
    "from imblearn.over_sampling import SMOTE\n",
    "from sklearn.model_selection import train_test_split\n",
    "from sklearn.model_selection import GridSearchCV\n",
    "from sklearn.metrics import *"
   ]
  },
  {
   "cell_type": "code",
   "execution_count": 2,
   "outputs": [],
   "source": [
    "# load in the preprocessed data\n",
    "preprocessed_data = pd.read_csv(\"../mimic_data_after_preprocess/mimic_preprocessed.csv\", index_col='subject_id')"
   ],
   "metadata": {
    "collapsed": false
   }
  },
  {
   "cell_type": "code",
   "execution_count": 3,
   "outputs": [],
   "source": [
    "# split preprocesses dataset into two part for training model and simulation respectively\n",
    "train_model_set, simulation_set = train_test_split(preprocessed_data, test_size=0.2)\n",
    "train_model_set.to_csv(\"../mimic_data_after_preprocess/train_model_set25.csv\", encoding='utf-8')\n",
    "simulation_set.to_csv(\"../mimic_data_after_preprocess/simulation_set25.csv\", encoding='utf-8')"
   ],
   "metadata": {
    "collapsed": false
   }
  },
  {
   "cell_type": "code",
   "execution_count": 4,
   "outputs": [
    {
     "name": "stdout",
     "output_type": "stream",
     "text": [
      "(73912, 26) 1707\n",
      "(18478, 26) 446\n"
     ]
    }
   ],
   "source": [
    "# split train_model_set into two part\n",
    "train_set, test_set = train_test_split(train_model_set, test_size=0.2)\n",
    "print(train_set.shape, sum(train_set['adverse_flag']))\n",
    "print(test_set.shape, sum(test_set['adverse_flag']))\n",
    "# turn pandas dataframe to csv file\n",
    "train_set.to_csv(\"../mimic_data_after_preprocess/training_set25.csv\", encoding='utf-8')\n",
    "test_set.to_csv(\"../mimic_data_after_preprocess/testing_set25.csv\", encoding='utf-8')"
   ],
   "metadata": {
    "collapsed": false
   }
  },
  {
   "cell_type": "code",
   "execution_count": 5,
   "outputs": [],
   "source": [
    "# when directly sampling on age group features, it may be some cases whose several age group flags are 1\n",
    "# it may also generate similar errors on narcotic or anti_narcotic flag and total amount of drugs\n",
    "# therefore, turn the original form into another form\n",
    "\n",
    "train_set_wo_flag = train_set.drop(['age_1', 'age_2', 'age_3', 'age_4', 'age_5', 'age_6', 'age_7', 'age_8',\n",
    "                    'anti_narcotic', 'narcotic', 'n_anti_narcotic', 'n_narcotic'], axis=1)"
   ],
   "metadata": {
    "collapsed": false
   }
  },
  {
   "cell_type": "code",
   "execution_count": 6,
   "outputs": [
    {
     "name": "stdout",
     "output_type": "stream",
     "text": [
      "finish 5000\n",
      "finish 10000\n",
      "finish 15000\n",
      "finish 20000\n",
      "finish 25000\n",
      "finish 30000\n",
      "finish 35000\n",
      "finish 40000\n",
      "finish 45000\n",
      "finish 50000\n",
      "finish 55000\n",
      "finish 60000\n",
      "finish 65000\n",
      "finish 70000\n"
     ]
    }
   ],
   "source": [
    "subjects_train = train_set.index\n",
    "count = 0\n",
    "for subject in subjects_train:\n",
    "    if train_set.loc[subject, 'age_1'] == 1:\n",
    "        age = 1\n",
    "    elif train_set.loc[subject, 'age_2'] == 1:\n",
    "        age = 2\n",
    "    elif train_set.loc[subject, 'age_3'] == 1:\n",
    "        age = 3\n",
    "    elif train_set.loc[subject, 'age_4'] == 1:\n",
    "        age = 4\n",
    "    elif train_set.loc[subject, 'age_5'] == 1:\n",
    "        age = 5\n",
    "    elif train_set.loc[subject, 'age_6'] == 1:\n",
    "        age = 6\n",
    "    elif train_set.loc[subject, 'age_7'] == 1:\n",
    "        age = 7\n",
    "    elif train_set.loc[subject, 'age_8'] == 1:\n",
    "        age = 8\n",
    "    train_set_wo_flag.loc[subject, 'age'] = age\n",
    "    count += 1\n",
    "    if count % 5000 == 0 :\n",
    "        print(\"finish\",count)\n"
   ],
   "metadata": {
    "collapsed": false
   }
  },
  {
   "cell_type": "code",
   "execution_count": 7,
   "outputs": [],
   "source": [
    "train_set_wo_flag['age'] = train_set_wo_flag['age'].astype(\"int64\")"
   ],
   "metadata": {
    "collapsed": false
   }
  },
  {
   "cell_type": "code",
   "execution_count": 8,
   "outputs": [],
   "source": [
    "# Do oversampling. After sampling, in default, the number of minority class should be the same with the majority class\n",
    "# SMOTE ratio 1:1\n",
    "features_train = train_set_wo_flag.loc[:, train_set_wo_flag.columns!=\"adverse_flag\"]\n",
    "labels_train = train_set_wo_flag['adverse_flag']\n",
    "oversample = SMOTE(sampling_strategy=0.25)\n",
    "features_train_o, labels_train_o = oversample.fit_resample(features_train, labels_train)"
   ],
   "metadata": {
    "collapsed": false
   }
  },
  {
   "cell_type": "code",
   "execution_count": 9,
   "outputs": [
    {
     "name": "stdout",
     "output_type": "stream",
     "text": [
      "(73912, 14) 1707 72205\n",
      "(90256, 14) 18051 72205\n",
      "8 2\n",
      "8 2\n"
     ]
    }
   ],
   "source": [
    "print(features_train.shape, sum(labels_train==1), sum(labels_train==0))\n",
    "print(features_train_o.shape, sum(labels_train_o==1), sum(labels_train_o==0))\n",
    "print(max(features_train['age']), min(features_train['age']))\n",
    "print(max(features_train_o['age']), min(features_train_o['age']))"
   ],
   "metadata": {
    "collapsed": false
   }
  },
  {
   "cell_type": "code",
   "execution_count": 10,
   "outputs": [],
   "source": [
    "# now compute the new age group flags, drug flags, and total amount of drugs\n",
    "train_set_smote = features_train_o.drop('age', axis=1)\n",
    "subjects_smote = features_train_o.index"
   ],
   "metadata": {
    "collapsed": false
   }
  },
  {
   "cell_type": "code",
   "execution_count": 11,
   "outputs": [],
   "source": [
    "# compute age group first\n",
    "for i in range(1,9):\n",
    "    train_set_smote['age_'+str(i)] = 0\n",
    "    train_set_smote['age_'+str(i)][features_train_o['age']==i] = 1"
   ],
   "metadata": {
    "collapsed": false
   }
  },
  {
   "cell_type": "code",
   "execution_count": 12,
   "outputs": [],
   "source": [
    "# compute 'anti_narcotic', 'narcotic' flag and total amounts of drugs\n",
    "drug_names = ['oxymorphone', 'oxycodone', 'morphine', 'meperidine',\n",
    "                'hydromorphone', 'hydrocodone', 'fentanyl', 'codeine', 'buprenorphine',\n",
    "                'methadone', 'methadone', 'naloxone']\n",
    "narcotic = train_set_smote['oxymorphone']\n",
    "for drug in drug_names[1:-1]:\n",
    "    narcotic = narcotic + train_set_smote[drug]\n",
    "train_set_smote['n_narcotic'] = narcotic\n",
    "train_set_smote['narcotic'] = 0\n",
    "train_set_smote['narcotic'][narcotic>0] = 1\n",
    "\n",
    "anti_narcotic = train_set_smote['methadone']+train_set_smote['naloxone']\n",
    "train_set_smote['n_anti_narcotic'] = anti_narcotic\n",
    "train_set_smote['anti_narcotic'] = 0\n",
    "train_set_smote['anti_narcotic'][anti_narcotic>0] = 1"
   ],
   "metadata": {
    "collapsed": false
   }
  },
  {
   "cell_type": "code",
   "execution_count": 13,
   "outputs": [],
   "source": [
    "# add the labels and switch the columns\n",
    "\n",
    "columns=['age_1', 'age_2', 'age_3', 'age_4', 'age_5', 'age_6', 'age_7', 'age_8',\n",
    "            'gender', 'n_hosp', 'anti_narcotic', 'narcotic',\n",
    "            'n_anti_narcotic', 'n_narcotic',\n",
    "            'oxymorphone', 'oxycodone', 'morphine', 'meperidine',\n",
    "            'hydromorphone', 'hydrocodone', 'fentanyl', 'codeine',\n",
    "            'buprenorphine', 'methadone', 'naloxone',\n",
    "            'adverse_flag']\n",
    "\n",
    "train_set_smote['adverse_flag'] = labels_train_o\n",
    "train_set_smote = train_set_smote[columns]"
   ],
   "metadata": {
    "collapsed": false
   }
  },
  {
   "cell_type": "code",
   "execution_count": 14,
   "outputs": [],
   "source": [
    "# save the train_set_smote to csv\n",
    "train_set_smote.to_csv(\"../mimic_data_after_preprocess/training_set_smote25.csv\", encoding='utf-8')"
   ],
   "metadata": {
    "collapsed": false
   }
  }
 ],
 "metadata": {
  "kernelspec": {
   "display_name": "Python 3",
   "language": "python",
   "name": "python3"
  },
  "language_info": {
   "codemirror_mode": {
    "name": "ipython",
    "version": 2
   },
   "file_extension": ".py",
   "mimetype": "text/x-python",
   "name": "python",
   "nbconvert_exporter": "python",
   "pygments_lexer": "ipython2",
   "version": "2.7.6"
  }
 },
 "nbformat": 4,
 "nbformat_minor": 0
}
