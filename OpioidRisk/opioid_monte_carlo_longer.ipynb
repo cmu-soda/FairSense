{
 "cells": [
  {
   "cell_type": "code",
   "execution_count": 1,
   "metadata": {},
   "outputs": [],
   "source": [
    "import numpy as np\n",
    "import pandas as pd\n",
    "import matplotlib.pyplot as plt\n",
    "import tqdm\n",
    "import os\n",
    "\n",
    "from opioid_agent import OpioidAgent, OpioidAgentParams\n",
    "from opioid_model import opioid_XGBoost_model, opioid_mlp_model\n",
    "from opioid_env import OpioidPrescribeEnv\n",
    "\n",
    "import opioid_env\n",
    "import time\n",
    "from opioid_fairness_metrics import *\n",
    "from opioid_simulation import *\n",
    "\n",
    "import sys\n",
    "sys.path.insert(0, os.getcwd() + '/../')\n",
    "import vanilla_monte_carlo"
   ]
  },
  {
   "cell_type": "code",
   "execution_count": 4,
   "metadata": {},
   "outputs": [],
   "source": [
    "simulation_data_dir = \"./mimic_data_after_preprocess/simulation_set25.csv\"\n",
    "simulation_data = pd.read_csv(simulation_data_dir, index_col='subject_id')\n",
    "init_params = {'simulation_data': simulation_data}\n",
    "\n",
    "\n",
    "xgboost_model_dir = \"./mimic-model/models/model_xgboost.pkl\"\n",
    "xgboost_threshold_dir = \"./mimic-model/models/thresholds.pkl\"\n",
    "xgboost_precision_dir = \"./mimic-model/models/precision_xgboost.pkl\"\n",
    "mlp_model_dir = \"./mimic-model/models/model_mlp.pth\"\n",
    "mlp_threshold_dir = \"./mimic-model/models/thresholds.pkl\"\n",
    "mlp_precision_dir = \"./mimic-model/models/precision_xgboost.pkl\"\n",
    "\n",
    "potential_model_name = ['xgboost', 'mlp']\n",
    "potential_thresholds = [0.3, 0.4, 0.45, 0.5, 0.55, 0.6, 0.7]\n",
    "transition_func_type = None\n",
    "potential_sample_ratio = [0.01]\n",
    "potential_fairness_requirement = [0.038]\n",
    "potential_n_time_steps = [5]\n",
    "potential_n_hosp_mode = ['expectation', 'same', 'random_1', 'random_2']\n",
    "potential_n_prescription_mode = ['expectation', 'random_1', 'random_2']\n",
    "\n",
    "# get all possible combinations of parameters\n",
    "all_params = [potential_model_name, potential_thresholds, potential_sample_ratio,\n",
    "              potential_fairness_requirement, potential_n_time_steps, \n",
    "              potential_n_hosp_mode, potential_n_prescription_mode]\n",
    "all_params = np.array(np.meshgrid(*all_params)).T.reshape(-1, len(all_params))\n",
    "\n",
    "all_configs = []\n",
    "for i in range(len(all_params)):\n",
    "    model_name = all_params[i][0]\n",
    "    threshold = float(all_params[i][1])\n",
    "    sample_ratio = float(all_params[i][2])\n",
    "    fairness_requirement = float(all_params[i][3])\n",
    "    n_time_steps = int(all_params[i][4])\n",
    "    n_hosp_mode = all_params[i][5]\n",
    "    n_prescription_mode = all_params[i][6]\n",
    "    if model_name == 'xgboost':\n",
    "        model_class = opioid_XGBoost_model\n",
    "        model_dir = xgboost_model_dir\n",
    "        model_threshold_dir = xgboost_threshold_dir\n",
    "        model_precision_dir = xgboost_precision_dir\n",
    "    elif model_name == 'mlp':\n",
    "        model_class = opioid_mlp_model\n",
    "        model_dir = mlp_model_dir\n",
    "        model_threshold_dir = mlp_threshold_dir\n",
    "        model_precision_dir = mlp_precision_dir\n",
    "    else:\n",
    "        raise ValueError(\"model_name should be xgboost or mlp\")\n",
    "    \n",
    "    # avg_risk_requirement = AverageRiskScore(fairness_requirement)\n",
    "    fairness_metric = OpioidUnfairnessScore(fairness_requirement)\n",
    "    config = OpioidRiskConfiguration(model_class, model_dir, model_threshold_dir,\n",
    "                                     model_precision_dir, threshold,\n",
    "                                     transition_func_type, sample_ratio,\n",
    "                                     fairness_metric, n_time_steps,\n",
    "                                     n_hosp_mode, n_prescription_mode)\n",
    "    all_configs.append([i, config])\n"
   ]
  },
  {
   "cell_type": "code",
   "execution_count": 5,
   "metadata": {},
   "outputs": [
    {
     "name": "stdout",
     "output_type": "stream",
     "text": [
      "Total time used: 12.787373781204224 seconds\n"
     ]
    }
   ],
   "source": [
    "if __name__ == '__main__':\n",
    "    stop_criteria = (MaxUnfairnessStopCriteria, 0.05)\n",
    "    vanilla_test = vanilla_monte_carlo.VanillaMonteCarloTesting(all_configs[:4], init_params, OpioidMonteCarloSimulation, stop_criteria)\n",
    "    results0 = vanilla_test.run_testing(n_threads=4, t_limit=60)"
   ]
  },
  {
   "cell_type": "code",
   "execution_count": 3,
   "metadata": {},
   "outputs": [
    {
     "data": {
      "text/plain": [
       "168"
      ]
     },
     "execution_count": 3,
     "metadata": {},
     "output_type": "execute_result"
    }
   ],
   "source": [
    "len(all_configs)"
   ]
  },
  {
   "cell_type": "code",
   "execution_count": 4,
   "metadata": {},
   "outputs": [
    {
     "name": "stdout",
     "output_type": "stream",
     "text": [
      "Total time used: 4418.460410118103 seconds\n",
      "Total time used: 4788.456923961639 seconds\n",
      "Total time used: 4708.8239958286285 seconds\n",
      "Total time used: 5208.484763145447 seconds\n"
     ]
    }
   ],
   "source": [
    "# create a vanilla testing object\n",
    "import pickle\n",
    "if __name__ == '__main__':\n",
    "    stop_criteria = (MaxUnfairnessStopCriteria, 0.02)\n",
    "    vanilla_test = vanilla_monte_carlo.VanillaMonteCarloTesting(all_configs[:40], init_params, OpioidMonteCarloSimulation, stop_criteria)\n",
    "    results0 = vanilla_test.run_testing(n_threads=4, t_limit=1800)\n",
    "    with open('simulation_results/full0-40_w_utility.pkl', 'wb') as f:\n",
    "        pickle.dump(results0, f)\n",
    "\n",
    "    vanilla_test = vanilla_monte_carlo.VanillaMonteCarloTesting(all_configs[40:80], init_params, OpioidMonteCarloSimulation, stop_criteria)\n",
    "    results1 = vanilla_test.run_testing(n_threads=4, t_limit=1800)\n",
    "    with open('simulation_results/full40-80_w_utility.pkl', 'wb') as f:\n",
    "        pickle.dump(results1, f)\n",
    "\n",
    "    vanilla_test = vanilla_monte_carlo.VanillaMonteCarloTesting(all_configs[80:120], init_params, OpioidMonteCarloSimulation, stop_criteria)\n",
    "    results2 = vanilla_test.run_testing(n_threads=4, t_limit=1800)\n",
    "    with open('simulation_results/full80-120_w_utility.pkl', 'wb') as f:\n",
    "        pickle.dump(results2, f)\n",
    "\n",
    "    vanilla_test = vanilla_monte_carlo.VanillaMonteCarloTesting(all_configs[120:], init_params, OpioidMonteCarloSimulation, stop_criteria)\n",
    "    results3 = vanilla_test.run_testing(n_threads=4, t_limit=1800)\n",
    "    with open('simulation_results/full120-168_w_utility.pkl', 'wb') as f:\n",
    "        pickle.dump(results3, f)"
   ]
  },
  {
   "cell_type": "code",
   "execution_count": 5,
   "metadata": {},
   "outputs": [],
   "source": [
    "results = results0 + results1 + results2 + results3"
   ]
  },
  {
   "cell_type": "code",
   "execution_count": 6,
   "metadata": {},
   "outputs": [],
   "source": [
    "# save the results using pickle\n",
    "import pickle\n",
    "with open('simulation_results/montecarlo_long_w_utility.pkl', 'wb') as f:\n",
    "    pickle.dump(results, f)"
   ]
  }
 ],
 "metadata": {
  "kernelspec": {
   "display_name": "feedbackloop",
   "language": "python",
   "name": "python3"
  },
  "language_info": {
   "codemirror_mode": {
    "name": "ipython",
    "version": 3
   },
   "file_extension": ".py",
   "mimetype": "text/x-python",
   "name": "python",
   "nbconvert_exporter": "python",
   "pygments_lexer": "ipython3",
   "version": "3.7.13"
  },
  "orig_nbformat": 4
 },
 "nbformat": 4,
 "nbformat_minor": 2
}
